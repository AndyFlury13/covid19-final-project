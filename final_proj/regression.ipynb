{
 "cells": [
  {
   "cell_type": "markdown",
   "metadata": {},
   "source": [
    "## Building a regression model"
   ]
  },
  {
   "cell_type": "code",
   "execution_count": 148,
   "metadata": {},
   "outputs": [],
   "source": [
    "import numpy as np\n",
    "import pandas as pd\n",
    "from sklearn.linear_model import LogisticRegression\n",
    "from utils import *\n",
    "import seaborn as sns\n",
    "import matplotlib.pyplot as plt\n",
    "import datetime\n",
    "from datetime import date\n",
    "import matplotlib.ticker as ticker"
   ]
  },
  {
   "cell_type": "markdown",
   "metadata": {},
   "source": [
    "We'll be taking a look at death rate over time. We'll compile all the days of case information (similar to 4.18_states.csv, but for all dates up until today) to assemble our training matrix X."
   ]
  },
  {
   "cell_type": "code",
   "execution_count": 149,
   "metadata": {},
   "outputs": [
    {
     "name": "stderr",
     "output_type": "stream",
     "text": [
      "/Users/andyflury/opt/anaconda3/lib/python3.7/site-packages/pandas/core/indexing.py:494: SettingWithCopyWarning: \n",
      "A value is trying to be set on a copy of a slice from a DataFrame.\n",
      "Try using .loc[row_indexer,col_indexer] = value instead\n",
      "\n",
      "See the caveats in the documentation: http://pandas.pydata.org/pandas-docs/stable/user_guide/indexing.html#returning-a-view-versus-a-copy\n",
      "  self.obj[item] = s\n"
     ]
    }
   ],
   "source": [
    "deaths = pd.read_csv('https://raw.githubusercontent.com/CSSEGISandData/COVID-19/master/csse_covid_19_data/csse_covid_19_time_series/time_series_covid19_deaths_US.csv',\n",
    "           error_bad_lines=False)\n",
    "cases = pd.read_csv('https://raw.githubusercontent.com/CSSEGISandData/COVID-19/master/csse_covid_19_data/csse_covid_19_time_series/time_series_covid19_confirmed_US.csv',\n",
    "                   error_bad_lines=False)\n",
    "#cases['FIPS'] = cases['FIPS'].astype('int')\n",
    "day_cases = get_day_cases()\n",
    "counties = pd.read_csv('https://raw.githubusercontent.com/Yu-Group/covid19-severity-prediction/master/data/county_data_abridged.csv',\n",
    "                      error_bad_lines=False)\n",
    "county_cases = pd.read_csv('https://raw.githubusercontent.com/Yu-Group/covid19-severity-prediction/master/data/county_level/processed/nytimes_infections/nytimes_infections.csv',\n",
    "                          error_bad_lines=False)\n",
    "\n",
    "death_keep = [col+'_deaths' if (col in cases.columns and col != 'FIPS') else col for col in deaths.columns]\n",
    "cases_keep = [col+'_cases' for col in cases.columns[12:]]\n",
    "cases_and_deaths = cases.merge(deaths, on='FIPS', suffixes=('_cases', '_deaths'))[death_keep+cases_keep]\n",
    "renamer = lambda name: name if (type(name) != str or '/' in name or '_deaths' not in name) else name[:-7]\n",
    "cases_and_deaths = cases_and_deaths.rename(columns=renamer)\n",
    "cases_and_deaths.head()\n",
    "\n",
    "valid_territories = cases_and_deaths[(cases_and_deaths['Lat'] > 0) & ~np.isnan(cases_and_deaths['FIPS'])]\n",
    "valid_territories.loc[:, 'FIPS'] = valid_territories['FIPS'].astype('int')\n",
    "valid_counties = counties[~counties['countyFIPS'].isin(['City1', 'City2'])]\n",
    "valid_counties.loc[:, 'countyFIPS'] = valid_counties['countyFIPS'].astype('int')\n",
    "\n",
    "county_all = valid_counties.merge(valid_territories, left_on='countyFIPS', right_on='FIPS')\n",
    "county_all = county_all.drop(columns=['Lat', 'Long_', 'Province_State', 'Country_Region', 'FIPS'])"
   ]
  },
  {
   "cell_type": "code",
   "execution_count": 150,
   "metadata": {},
   "outputs": [],
   "source": [
    "get_trait_ts = lambda terr, trait: [day_cases[day][trait][terr] for day in range(len(day_cases))]"
   ]
  },
  {
   "cell_type": "code",
   "execution_count": 151,
   "metadata": {},
   "outputs": [],
   "source": [
    "mort_rates = np.zeros((50, len(day_cases)))\n",
    "for terr in range(50):\n",
    "    mort_rates[terr, :] = get_trait_ts(terr, 'Mortality_Rate')\n",
    "start, end = datetime.datetime(2020, 4, 12), datetime.datetime(2020, 5, 12)\n",
    "mort_matrix = pd.DataFrame(mort_rates, index=day_cases[0]['Province_State'], columns = pd.date_range(start, end))\n"
   ]
  },
  {
   "cell_type": "markdown",
   "metadata": {},
   "source": [
    "Now that we have our csv assembled, we can begin creating our model."
   ]
  },
  {
   "cell_type": "code",
   "execution_count": 153,
   "metadata": {},
   "outputs": [],
   "source": [
    "from sklearn.linear_model import LinearRegression\n",
    "from sklearn.model_selection import KFold\n",
    "from sklearn.base import clone\n",
    "from sklearn import metrics\n",
    "\n",
    "\n",
    "def cross_validate_acc(model, X, y):\n",
    "    model = clone(model, safe=False)\n",
    "    five_fold = KFold(n_splits=5)\n",
    "    acc_values = []\n",
    "    for tr_ind, va_ind in five_fold.split(X):\n",
    "        model.fit(X.iloc[tr_ind,:], y[tr_ind])\n",
    "        acc_values.append(model.score(X.iloc[va_ind,:], y[va_ind]))\n",
    "    return np.mean(acc_values)\n",
    "\n",
    "def cross_validate_rmse(model, X, y):\n",
    "    model = clone(model, safe=False)\n",
    "    five_fold = KFold(n_splits=5)\n",
    "    rmse_values = []\n",
    "    for tr_ind, va_ind in five_fold.split(X):\n",
    "        model.fit(X.iloc[tr_ind,:], y[tr_ind])\n",
    "        rmse_values.append(rmse(y.iloc[va_ind], model.predict(X.iloc[va_ind,:])))\n",
    "    return np.mean(rmse_values)\n",
    "\n",
    "def rmse(predicted, actual):\n",
    "    return np.sqrt(np.mean((actual - predicted)**2))"
   ]
  },
  {
   "cell_type": "markdown",
   "metadata": {},
   "source": [
    "We will break down the immense task of predicting COVID-19 incidence by examining states at a time. The funcion below will assemble our training matrix with the proper state and features. These features were selected after examining cross validation RMSE and are the most descriptive we could find within our own datasets."
   ]
  },
  {
   "cell_type": "code",
   "execution_count": 155,
   "metadata": {},
   "outputs": [
    {
     "name": "stdout",
     "output_type": "stream",
     "text": [
      "Training Error: 0.020658407407562\n",
      "Cross Validation Error 0.03369581902636094\n"
     ]
    }
   ],
   "source": [
    "def get_single_state(state='California'):\n",
    "    features_of_interest = ['Confirmed', 'Deaths', 'Active', 'Incident_Rate', 'Mortality_Rate']\n",
    "    state_df = pd.DataFrame({'day': np.zeros(5)})\n",
    "    for df in day_cases:\n",
    "        row = df.loc[df['Province_State'] == state]\n",
    "        date = pd.to_datetime(row['Last_Update'].values[0])\n",
    "        state_df[date] = np.array(row[features_of_interest].values[0])\n",
    "    state_df = state_df.drop('day', axis =1)\n",
    "    state_df.index = features_of_interest\n",
    "    return state_df.T\n",
    "\n",
    "def get_country():\n",
    "    nation_df = pd.DataFrame()\n",
    "    for state in day_cases[0]['Province_State']:\n",
    "        df = get_single_state(state)\n",
    "        nation_df = nation_df.append(df)\n",
    "    return nation_df\n",
    "\n",
    "def create_model(state='California', nation=False, future=13, past=13):\n",
    "    model = LinearRegression()\n",
    "    matrix = get_single_state(state)\n",
    "    X_train = matrix.iloc[-2*past:-1*past, :]\n",
    "    y_train = matrix['Mortality_Rate'][-1*past:]\n",
    "    model.fit(X_train, y_train)\n",
    "    y_hat = model.predict(X_train)\n",
    "    print('Training Error:', rmse(y_train, y_hat))\n",
    "    print('Cross Validation Error', cross_validate_rmse(model, X_train, y_train))\n",
    "    return model\n",
    "\n",
    "\n",
    "model13 = create_model()\n",
    "def plot_predictions(model, matrix, state='State Name Here', forecast=20):\n",
    "    guess = model.predict(matrix.iloc[-1 * forecast:,:])\n",
    "    x = range(forecast)\n",
    "    \n",
    "    ax = sns.scatterplot(x =x, y=guess)\n",
    "    ax.set(xlabel='Days Past '+str(date.today()), ylabel='Mortality Rate')\n",
    "    ax.xaxis.set_major_locator(ticker.MultipleLocator(2))\n",
    "    ax.xaxis.set_major_formatter(ticker.ScalarFormatter())\n",
    "    ax.set(title='Mortality Rate over Time, ' + state)\n",
    "    plt.show()\n",
    "\n"
   ]
  },
  {
   "cell_type": "markdown",
   "metadata": {},
   "source": [
    "The training error and cross validation error are fairly good, considering the magnitude of our data set (on the order of 10^1). The function plot_predictions() will take a model, a state, and a forecast (number of days) in order to predict the mortality rate in the future."
   ]
  },
  {
   "cell_type": "code",
   "execution_count": 159,
   "metadata": {},
   "outputs": [
    {
     "data": {
      "image/png": "[encoded data removed]",
      "text/plain": [
       "<Figure size 432x288 with 1 Axes>"
      ]
     },
     "metadata": {
      "needs_background": "light"
     },
     "output_type": "display_data"
    }
   ],
   "source": [
    "plot_predictions(model13, get_single_state('California'), state='California')"
   ]
  },
  {
   "cell_type": "markdown",
   "metadata": {},
   "source": [
    "#### Note that our model suffers greatly when the change over the given number of days is extreme or quite drastic. NY is a good example of our momdel failing."
   ]
  },
  {
   "cell_type": "code",
   "execution_count": null,
   "metadata": {},
   "outputs": [],
   "source": []
  }
 ],
 "metadata": {
  "kernelspec": {
   "display_name": "Python 3",
   "language": "python",
   "name": "python3"
  },
  "language_info": {
   "codemirror_mode": {
    "name": "ipython",
    "version": 3
   },
   "file_extension": ".py",
   "mimetype": "text/x-python",
   "name": "python",
   "nbconvert_exporter": "python",
   "pygments_lexer": "ipython3",
   "version": "3.7.4"
  }
 },
 "nbformat": 4,
 "nbformat_minor": 2
}
