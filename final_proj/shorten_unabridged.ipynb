{
 "cells": [
  {
   "cell_type": "markdown",
   "metadata": {},
   "source": [
    "The following is how I created unabridged dataset. I used the same Yu Group for the data, but followed their instruction to create their csv file. First get the csv, name it to unabridged, put in folder called covid19, and run below (uncommented)\n",
    "https://github.com/Yu-Group/covid19-severity-prediction/tree/master/data"
   ]
  },
  {
   "cell_type": "code",
   "execution_count": null,
   "metadata": {},
   "outputs": [],
   "source": [
    "# unabridged = pd.read_csv('./covid19/unabridged.csv')\n",
    "# unabridged.head()\n",
    "# to_keep = list(county_df.columns)\n",
    "# to_keep += ['HPSAName', 'HPSAMetroIndicator', 'HPSARuralStatus', 'HPSAPercentPoverty', '% Uninsured', \n",
    "#             'High School Graduation Rate', '% Some College', '% Unemployed', '% Children in Poverty', 'Income Ratio', \n",
    "#             '% Single-Parent Households', 'Social Association Rate', '% Severe Housing Problems',\n",
    "#             'Urban Influence Code 2013', 'Poverty Num All Ages 2018', 'Poverty Num Ages 0-17 2018', \n",
    "#             'Poverty Num Ages 5-17 2018', 'Poverty Pct All Ages 2018', 'Poverty Pct Ages 0-17 2018',\n",
    "#             'Poverty Pct Ages 5-17 2018', 'Median Household Income 2018', '60plusPerICUBed', 'SVIPercentileSEtheme',\n",
    "#             'SVIPercentileHDtheme', 'SVIPercentileMLtheme', 'SVIPercentileHTtheme', 'HPSAServedPop', \n",
    "#             'HPSAUnderservedPop', 'Primary Care Physicians Ratio', 'Dentist Ratio', 'Mental Health Provider Ratio',\n",
    "#             '% Fair or Poor Health', 'Average Number of Physically Unhealthy Days', \n",
    "#             'Average Number of Mentally Unhealthy Days', '% Low Birthweight', '% Adults with Obesity', \n",
    "#             'Food Environment Index', '% Physically Inactive', '% With Access to Exercise Opportunities',\n",
    "#             '% Excessive Drinking', 'Chlamydia Rate', 'Teen Birth Rate', 'Preventable Hospitalization Rate',\n",
    "#             '% Vaccinated', 'Violent Crime Rate', 'Injury Death Rate', 'Average Daily PM2.5', \n",
    "#             'Presence of Water Violation', '% Drive Alone to Work', '% Long Commute - Drives Alone'\n",
    "#             ]\n",
    "# date_variable_columns = ['observed_ili%Y-%m-%d', 'forecast_expected%Y-%m-%d', 'daily_visitation_diff%Y-%m-%d', \n",
    "#                          'encounter_rate%Y-%m-%d', 'VMT_per_capita%Y-%m-%d', 'VMT_percent_change%Y-%m-%d',\n",
    "#                          'completely_home_device_county_{DATE}', 'part_time_work_behavior_devices_{DATE}', \n",
    "#                          'full_time_work_behavior_devices_{DATE}', 'delivery_behavior_devices_{DATE}', \n",
    "#                          'at_home_by_each_hour_{#}_{DATE}', 'destination_cbgs_{DATE}', 'n_places_{CATEGORY}' \n",
    "#                         ]\n",
    "# unabridged[to_keep].to_csv('./covid19/small_abridged.csv')"
   ]
  }
 ],
 "metadata": {
  "kernelspec": {
   "display_name": "Python 3",
   "language": "python",
   "name": "python3"
  },
  "language_info": {
   "codemirror_mode": {
    "name": "ipython",
    "version": 3
   },
   "file_extension": ".py",
   "mimetype": "text/x-python",
   "name": "python",
   "nbconvert_exporter": "python",
   "pygments_lexer": "ipython3",
   "version": "3.7.1"
  }
 },
 "nbformat": 4,
 "nbformat_minor": 2
}
