{
 "cells": [
  {
   "cell_type": "code",
   "execution_count": 1,
   "metadata": {},
   "outputs": [
    {
     "ename": "NameError",
     "evalue": "name 'pd' is not defined",
     "output_type": "error",
     "traceback": [
      "\u001b[0;31m---------------------------------------------------------------------------\u001b[0m",
      "\u001b[0;31mNameError\u001b[0m                                 Traceback (most recent call last)",
      "\u001b[0;32m<ipython-input-1-8aba2f2abf07>\u001b[0m in \u001b[0;36m<module>\u001b[0;34m\u001b[0m\n\u001b[0;32m----> 1\u001b[0;31m \u001b[0munabridged\u001b[0m \u001b[0;34m=\u001b[0m \u001b[0mpd\u001b[0m\u001b[0;34m.\u001b[0m\u001b[0mread_csv\u001b[0m\u001b[0;34m(\u001b[0m\u001b[0;34m'./covid19/unabridged.csv'\u001b[0m\u001b[0;34m)\u001b[0m\u001b[0;34m\u001b[0m\u001b[0;34m\u001b[0m\u001b[0m\n\u001b[0m\u001b[1;32m      2\u001b[0m \u001b[0munabridged\u001b[0m\u001b[0;34m.\u001b[0m\u001b[0mhead\u001b[0m\u001b[0;34m(\u001b[0m\u001b[0;34m)\u001b[0m\u001b[0;34m\u001b[0m\u001b[0;34m\u001b[0m\u001b[0m\n",
      "\u001b[0;31mNameError\u001b[0m: name 'pd' is not defined"
     ]
    }
   ],
   "source": [
    "unabridged = pd.read_csv('./covid19/unabridged.csv')\n",
    "unabridged.head()"
   ]
  },
  {
   "cell_type": "code",
   "execution_count": null,
   "metadata": {},
   "outputs": [],
   "source": [
    "to_keep = list(county_df.columns)\n",
    "to_keep += ['HPSAName', 'HPSAMetroIndicator', 'HPSARuralStatus', 'HPSAPercentPoverty', '% Uninsured', \n",
    "            'High School Graduation Rate', '% Some College', '% Unemployed', '% Children in Poverty', 'Income Ratio', \n",
    "            '% Single-Parent Households', 'Social Association Rate', '% Severe Housing Problems',\n",
    "            'Urban Influence Code 2013', 'Poverty Num All Ages 2018', 'Poverty Num Ages 0-17 2018', \n",
    "            'Poverty Num Ages 5-17 2018', 'Poverty Pct All Ages 2018', 'Poverty Pct Ages 0-17 2018',\n",
    "            'Poverty Pct Ages 5-17 2018', 'Median Household Income 2018', '60plusPerICUBed', 'SVIPercentileSEtheme',\n",
    "            'SVIPercentileHDtheme', 'SVIPercentileMLtheme', 'SVIPercentileHTtheme', 'HPSAServedPop', \n",
    "            'HPSAUnderservedPop', 'Primary Care Physicians Ratio', 'Dentist Ratio', 'Mental Health Provider Ratio',\n",
    "            '% Fair or Poor Health', 'Average Number of Physically Unhealthy Days', \n",
    "            'Average Number of Mentally Unhealthy Days', '% Low Birthweight', '% Adults with Obesity', \n",
    "            'Food Environment Index', '% Physically Inactive', '% With Access to Exercise Opportunities',\n",
    "            '% Excessive Drinking', 'Chlamydia Rate', 'Teen Birth Rate', 'Preventable Hospitalization Rate',\n",
    "            '% Vaccinated', 'Violent Crime Rate', 'Injury Death Rate', 'Average Daily PM2.5', \n",
    "            'Presence of Water Violation', '% Drive Alone to Work', '% Long Commute - Drives Alone'\n",
    "            ]\n",
    "date_variable_columns = ['observed_ili%Y-%m-%d', 'forecast_expected%Y-%m-%d', 'daily_visitation_diff%Y-%m-%d', \n",
    "                         'encounter_rate%Y-%m-%d', 'VMT_per_capita%Y-%m-%d', 'VMT_percent_change%Y-%m-%d',\n",
    "                         'completely_home_device_county_{DATE}', 'part_time_work_behavior_devices_{DATE}', \n",
    "                         'full_time_work_behavior_devices_{DATE}', 'delivery_behavior_devices_{DATE}', \n",
    "                         'at_home_by_each_hour_{#}_{DATE}', 'destination_cbgs_{DATE}', 'n_places_{CATEGORY}' \n",
    "                        ]\n",
    "unabridged[to_keep].to_csv('./covid19/small_abridged.csv')"
   ]
  }
 ],
 "metadata": {
  "kernelspec": {
   "display_name": "Python 3",
   "language": "python",
   "name": "python3"
  },
  "language_info": {
   "codemirror_mode": {
    "name": "ipython",
    "version": 3
   },
   "file_extension": ".py",
   "mimetype": "text/x-python",
   "name": "python",
   "nbconvert_exporter": "python",
   "pygments_lexer": "ipython3",
   "version": "3.6.5"
  }
 },
 "nbformat": 4,
 "nbformat_minor": 2
}
