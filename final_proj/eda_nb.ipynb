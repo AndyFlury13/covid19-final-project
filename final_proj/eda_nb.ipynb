{
 "cells": [
  {
   "cell_type": "code",
   "execution_count": 3,
   "metadata": {},
   "outputs": [],
   "source": [
    "# % load_ext autoreload\n",
    "# % aimport utils\n",
    "import pandas as pd\n",
    "import numpy as np\n",
    "import seaborn as sns\n",
    "import matplotlib.pyplot as plt\n",
    "from datetime import date, timedelta\n",
    "from utils import *\n",
    "from sklearn.decomposition import PCA\n",
    "import plotly.express as px"
   ]
  },
  {
   "cell_type": "code",
   "execution_count": 4,
   "metadata": {},
   "outputs": [
    {
     "name": "stderr",
     "output_type": "stream",
     "text": [
      "UsageError: Line magic function `%` not found.\n"
     ]
    }
   ],
   "source": [
    "% autoreload 1\n",
    "deaths = pd.read_csv('https://raw.githubusercontent.com/CSSEGISandData/COVID-19/master/csse_covid_19_data/csse_covid_19_time_series/time_series_covid19_deaths_US.csv',\n",
    "           error_bad_lines=False)\n",
    "cases = pd.read_csv('https://raw.githubusercontent.com/CSSEGISandData/COVID-19/master/csse_covid_19_data/csse_covid_19_time_series/time_series_covid19_confirmed_US.csv',\n",
    "                   error_bad_lines=False)\n",
    "#cases['FIPS'] = cases['FIPS'].astype('int')\n",
    "day_cases = get_day_cases()\n",
    "counties = pd.read_csv('https://raw.githubusercontent.com/Yu-Group/covid19-severity-prediction/master/data/county_data_abridged.csv',\n",
    "                      error_bad_lines=False)\n",
    "county_cases = pd.read_csv('https://raw.githubusercontent.com/Yu-Group/covid19-severity-prediction/master/data/county_level/processed/nytimes_infections/nytimes_infections.csv',\n",
    "                          error_bad_lines=False)"
   ]
  },
  {
   "cell_type": "code",
   "execution_count": null,
   "metadata": {},
   "outputs": [],
   "source": [
    "death_keep = [col+'_deaths' if (col in cases.columns and col != 'FIPS') else col for col in deaths.columns]\n",
    "cases_keep = [col+'_cases' for col in cases.columns[12:]]\n",
    "cases_and_deaths = cases.merge(deaths, on='FIPS', suffixes=('_cases', '_deaths'))[death_keep+cases_keep]\n",
    "renamer = lambda name: name if (type(name) != str or '/' in name or '_deaths' not in name) else name[:-7]\n",
    "cases_and_deaths = cases_and_deaths.rename(columns=renamer)\n",
    "cases_and_deaths.head()"
   ]
  },
  {
   "cell_type": "code",
   "execution_count": null,
   "metadata": {},
   "outputs": [],
   "source": [
    "valid_territories = cases_and_deaths[(cases_and_deaths['Lat'] > 0) & ~np.isnan(cases_and_deaths['FIPS'])]\n",
    "valid_territories.loc[:, 'FIPS'] = valid_territories['FIPS'].astype('int')\n",
    "valid_counties = counties[~counties['countyFIPS'].isin(['City1', 'City2'])]\n",
    "valid_counties.loc[:, 'countyFIPS'] = valid_counties['countyFIPS'].astype('int')"
   ]
  },
  {
   "cell_type": "code",
   "execution_count": null,
   "metadata": {},
   "outputs": [],
   "source": [
    "# MOST IMPORTANT TABLE\n",
    "county_all = valid_counties.merge(valid_territories, left_on='countyFIPS', right_on='FIPS')\n",
    "county_all = county_all.drop(columns=['Lat', 'Long_', 'Province_State', 'Country_Region', 'FIPS'])\n",
    "#county_all.to_csv('county_info_cases_deaths.csv')"
   ]
  },
  {
   "cell_type": "code",
   "execution_count": null,
   "metadata": {},
   "outputs": [],
   "source": [
    "#sns.jointplot(county_all['lon'],\n",
    "#              np.sqrt((county_all['4/20/20_cases'] / county_all['Population'])))\n",
    "d = county_all[county_all['lat'] > 0]\n",
    "sns.jointplot(np.sqrt(d['lat']),\n",
    "                np.sqrt(d['5/8/20_deaths'] / d['Population']),\n",
    "              )\n",
    "\n",
    "plt.ylim(ymin=0)\n",
    "plt.show()"
   ]
  },
  {
   "cell_type": "code",
   "execution_count": 5,
   "metadata": {},
   "outputs": [],
   "source": [
    "def preprocess_counties(counties_df):\n",
    "    # turn ordinal dates into useful dates\n",
    "    counties_df = counties_df.iloc[:, 75:83].dropna().apply(lambda col: col.apply(lambda x: pd.Timestamp.fromordinal(int(x))))\n",
    "    return counties_df"
   ]
  },
  {
   "cell_type": "code",
   "execution_count": 6,
   "metadata": {},
   "outputs": [],
   "source": [
    "def moving_average(a, n=7, ndim=1) :\n",
    "    \"\"\"\n",
    "    From https://stackoverflow.com/questions/14313510/how-to-calculate-moving-average-using-numpy\n",
    "    \"\"\"\n",
    "    if ndim == 2:\n",
    "        return moving_average_2d(a, n=n)\n",
    "    ret = np.cumsum(a, dtype=float)\n",
    "    ret[n:] = ret[n:] - ret[:-n]\n",
    "    return ret[n - 1:] / n\n",
    "\n",
    "def moving_average_2d(a, n=7):\n",
    "    ret = np.cumsum(a, axis=1, dtype=float)\n",
    "    ret[:, n:] = ret[:, n:] - ret[:, :-n]\n",
    "    return ret[:, n - 1:] / n\n",
    "\n",
    "def plot_feature_bins(df, colname, ylabel=None, num_bins=4,\n",
    "                      stat='cases', smoothing=5, normalize=False,\n",
    "                     quartiles=True, transformer=lambda x: x):\n",
    "    indep_var = df[colname].astype('float')\n",
    "    pops = df['PopTotalMale2017'] + df['PopTotalFemale2017']\n",
    "    if normalize:\n",
    "        indep_var /= pops\n",
    "    valid_idxs = ~np.isnan(indep_var)\n",
    "    indep_var = transformer(indep_var[valid_idxs])\n",
    "    valid_df = df[valid_idxs]\n",
    "    \n",
    "    ivar_min, ivar_max = np.min(indep_var), np.max(indep_var)\n",
    "    if quartiles:\n",
    "        bins = [np.percentile(indep_var, 100/num_bins*i) for i in range(num_bins+1)]\n",
    "    else:\n",
    "        bins = np.linspace(ivar_min, ivar_max, num_bins+1)\n",
    "    fig = plt.figure(figsize=(10, 7))\n",
    "    ax = fig.add_subplot(111)\n",
    "    for i in range(num_bins):\n",
    "        binned_idxs = (bins[i] <= indep_var) & (indep_var < bins[i+1])\n",
    "        binned = valid_df.loc[binned_idxs].filter(regex='_'+stat)\n",
    "        pop = (valid_df['PopTotalMale2017'] + valid_df['PopTotalFemale2017'])[binned_idxs]\n",
    "        if stat=='cases':\n",
    "            #print(binned)\n",
    "            dates = pd.to_datetime(binned.columns.str.replace(r'_cases', ''))\n",
    "            binned = (np.array(binned) / pop[:, None]).mean(axis=0)\n",
    "            binned = pd.Series(data=binned, index=dates)\n",
    "        else:\n",
    "            dates = pd.to_datetime(binned.columns.str.replace(r'_deaths', ''))\n",
    "            binned = (np.array(binned) / pop[:, None]).mean(axis=0)\n",
    "            binned = pd.Series(data=binned, index=dates)\n",
    "        binned = binned.astype('float')\n",
    "        y = np.diff(binned.values)\n",
    "        x = binned.index[:-smoothing]\n",
    "        y = moving_average(y, smoothing)\n",
    "        sns.lineplot(x=x, y=y, ax=ax, label=str(100/num_bins*i) + '-' + str(100/num_bins*(i+1)))\n",
    "    plt.xlabel('Time')\n",
    "    if ylabel is None:\n",
    "        ylabel = 'Cases' if stat=='cases' else 'Deaths'\n",
    "    plt.setp(ax.get_xticklabels(), rotation=60)\n",
    "    ax.legend()\n",
    "    plt.legend(title = colname)\n",
    "    plt.show()\n",
    "    return bins\n",
    "    \n",
    "    \n",
    "def find_peak(df, smoothness=2, stat='cases'):\n",
    "    df = df.filter(regex='_' + stat)\n",
    "    case_change_arr = np.diff(np.array(df), axis=1)\n",
    "    smoothed_ccarr = moving_average(case_change_arr, n=smoothness, ndim=2)\n",
    "    print(smoothed_ccarr.shape)\n",
    "    peak_dates = df.columns[np.argmax(smoothed_ccarr, axis=1)+1].str.replace('_' + stat, '')\n",
    "    return pd.to_datetime(peak_dates)"
   ]
  },
  {
   "cell_type": "code",
   "execution_count": 7,
   "metadata": {
    "scrolled": false
   },
   "outputs": [
    {
     "ename": "NameError",
     "evalue": "name 'has_both' is not defined",
     "output_type": "error",
     "traceback": [
      "\u001b[0;31m---------------------------------------------------------------------------\u001b[0m",
      "\u001b[0;31mNameError\u001b[0m                                 Traceback (most recent call last)",
      "\u001b[0;32m<ipython-input-7-510430afa7d2>\u001b[0m in \u001b[0;36m<module>\u001b[0;34m\u001b[0m\n\u001b[1;32m      1\u001b[0m \u001b[0;31m# cell to play around with!\u001b[0m\u001b[0;34m\u001b[0m\u001b[0;34m\u001b[0m\u001b[0;34m\u001b[0m\u001b[0m\n\u001b[1;32m      2\u001b[0m \u001b[0;31m#plot_feature_bins(has_both, 'PopTotalMale2017', stat='cases', smoothing=7, normalize=True)\u001b[0m\u001b[0;34m\u001b[0m\u001b[0;34m\u001b[0m\u001b[0;34m\u001b[0m\u001b[0m\n\u001b[0;32m----> 3\u001b[0;31m bins1 = plot_feature_bins(has_both, 'dem_to_rep_ratio', stat='deaths',\n\u001b[0m\u001b[1;32m      4\u001b[0m                           smoothing=7, normalize=False)\n\u001b[1;32m      5\u001b[0m bins2 = plot_feature_bins(has_both, 'dem_to_rep_ratio', stat='cases',\n",
      "\u001b[0;31mNameError\u001b[0m: name 'has_both' is not defined"
     ]
    }
   ],
   "source": [
    "# cell to play around with!\n",
    "#plot_feature_bins(has_both, 'PopTotalMale2017', stat='cases', smoothing=7, normalize=True)\n",
    "bins1 = plot_feature_bins(has_both, 'dem_to_rep_ratio', stat='deaths',\n",
    "                          smoothing=7, normalize=False)\n",
    "bins2 = plot_feature_bins(has_both, 'dem_to_rep_ratio', stat='cases',\n",
    "                          smoothing=7, normalize=False)\n",
    "print('Bins1:', bins1)\n",
    "print('Bins2:', bins2)"
   ]
  },
  {
   "cell_type": "code",
   "execution_count": 8,
   "metadata": {},
   "outputs": [
    {
     "ename": "NameError",
     "evalue": "name 'has_both' is not defined",
     "output_type": "error",
     "traceback": [
      "\u001b[0;31m---------------------------------------------------------------------------\u001b[0m",
      "\u001b[0;31mNameError\u001b[0m                                 Traceback (most recent call last)",
      "\u001b[0;32m<ipython-input-8-497040ff2d22>\u001b[0m in \u001b[0;36m<module>\u001b[0;34m\u001b[0m\n\u001b[0;32m----> 1\u001b[0;31m \u001b[0mhas_both\u001b[0m\u001b[0;34m[\u001b[0m\u001b[0mhas_both\u001b[0m\u001b[0;34m[\u001b[0m\u001b[0;34m'dem_to_rep_ratio'\u001b[0m\u001b[0;34m]\u001b[0m \u001b[0;34m>\u001b[0m \u001b[0;36m1\u001b[0m\u001b[0;34m]\u001b[0m\u001b[0;34m\u001b[0m\u001b[0;34m\u001b[0m\u001b[0m\n\u001b[0m",
      "\u001b[0;31mNameError\u001b[0m: name 'has_both' is not defined"
     ]
    }
   ],
   "source": [
    "has_both[has_both['dem_to_rep_ratio'] > 1]"
   ]
  },
  {
   "cell_type": "code",
   "execution_count": 9,
   "metadata": {},
   "outputs": [
    {
     "ename": "NameError",
     "evalue": "name 'has_both' is not defined",
     "output_type": "error",
     "traceback": [
      "\u001b[0;31m---------------------------------------------------------------------------\u001b[0m",
      "\u001b[0;31mNameError\u001b[0m                                 Traceback (most recent call last)",
      "\u001b[0;32m<ipython-input-9-7e8fcf0fbd1c>\u001b[0m in \u001b[0;36m<module>\u001b[0;34m\u001b[0m\n\u001b[0;32m----> 1\u001b[0;31m \u001b[0mhas_both\u001b[0m\u001b[0;34m.\u001b[0m\u001b[0miloc\u001b[0m\u001b[0;34m[\u001b[0m\u001b[0;34m:\u001b[0m\u001b[0;36m5\u001b[0m\u001b[0;34m,\u001b[0m \u001b[0;36m93\u001b[0m\u001b[0;34m:\u001b[0m\u001b[0;36m207\u001b[0m\u001b[0;34m]\u001b[0m\u001b[0;34m\u001b[0m\u001b[0;34m\u001b[0m\u001b[0m\n\u001b[0m",
      "\u001b[0;31mNameError\u001b[0m: name 'has_both' is not defined"
     ]
    }
   ],
   "source": [
    "has_both.iloc[:5, 93:207]"
   ]
  },
  {
   "cell_type": "code",
   "execution_count": null,
   "metadata": {},
   "outputs": [],
   "source": [
    "n = 7\n",
    "has_both = county_all[(np.sum(county_all.iloc[:, 95:205], axis=1) > 0) & (np.sum(county_all.iloc[:, 205:], axis=1) > 0)]\n",
    "has_cases = county_all[(np.sum(county_all.iloc[:, 95:205], axis=1) > 0) | (np.sum(county_all.iloc[:, 205:], axis=1) > 0)]\n",
    "deltas = (find_peak(has_both, stat='deaths', smoothness=n) -\n",
    "          find_peak(has_both, stat='cases', smoothness=n)).days\n",
    "fig = plt.figure(figsize=(14, 10))\n",
    "ax = fig.add_subplot(111)\n",
    "ax.axvline(0, color='red', linestyle='--')\n",
    "sns.distplot(np.array(deltas), kde=True, ax=ax)\n",
    "print('Median Case/Death Lag:', np.median(deltas))\n",
    "print('Mean Case/Death Lag:', np.mean(deltas))\n",
    "plt.show()"
   ]
  },
  {
   "cell_type": "code",
   "execution_count": null,
   "metadata": {},
   "outputs": [],
   "source": [
    "def corr(df, var1, var2):\n",
    "    demean = lambda arr: arr - arr.mean()\n",
    "    col1, col2 = demean(has_cases[var1]), demean(has_cases[var2])\n",
    "    return np.sum(col1*col2)/np.sqrt(np.sum(col1**2) * np.sum(col2**2))\n",
    "\n",
    "for col in has_cases.columns[:94]:\n",
    "    if has_cases[col].dtype != object and np.count_nonzero(np.isnan(has_cases[col])):    \n",
    "        var1 = '5/11/20_cases'\n",
    "        var2 = '5/11/20_deaths'\n",
    "        print('Column:\\t\\t\\t\\t', col)\n",
    "        print('Correlation with Cases:\\t\\t', corr(has_cases, col, var1))\n",
    "        print('Correlation with Deaths:\\t', corr(has_cases, col, var2))\n",
    "        print()"
   ]
  },
  {
   "cell_type": "code",
   "execution_count": null,
   "metadata": {},
   "outputs": [],
   "source": [
    "[col for col in county_all.columns if 'pop' in col.lower()]"
   ]
  },
  {
   "cell_type": "code",
   "execution_count": null,
   "metadata": {},
   "outputs": [],
   "source": [
    "def preprocess(arr, smoothness=7):\n",
    "    \"\"\"\n",
    "    Differentiates and smooths the array, and excludes whatever indices are meant to be excluded.\n",
    "    \"\"\"\n",
    "    return moving_average(np.diff(arr[keep_idxs(arr, 1849)], axis=1), n=smoothness, ndim=2)\n",
    "\n",
    "county_all_deaths = np.array(county_all.iloc[:, 95:205]) / county_all['PopulationEstimate2018'][:, None]\n",
    "county_all_deaths = preprocess(county_all_deaths)\n",
    "county_deaths_centered = county_all_deaths - county_all_deaths.mean(axis=1)[:, None]\n",
    "county_all_cases = np.array(county_all.iloc[:, 205:]) / county_all['PopulationEstimate2018'][:, None]\n",
    "county_all_cases = preprocess(county_all_cases)\n",
    "county_cases_centered = county_all_cases - county_all_cases.mean(axis=1)[:, None]\n",
    "    \n",
    "keep_idxs = lambda arr, excl: (np.arange(len(arr)) != excl)\n",
    "\n",
    "names_nony = (county_all['CountyName'] + ', ' + county_all['StateName']).iloc[keep_idxs(county_all, 1849)]\n",
    "county_all_nony = county_all[keep_idxs(county_all, 1849)]"
   ]
  },
  {
   "cell_type": "code",
   "execution_count": null,
   "metadata": {},
   "outputs": [],
   "source": [
    "print(county_deaths_nony.shape)"
   ]
  },
  {
   "cell_type": "markdown",
   "metadata": {},
   "source": [
    "### Note of data cleaning\n",
    "\n",
    "We only consider assigned counties, as their time series include far fewer negative jumps, which are seen to be inaccurate.\n",
    "\n",
    "For PCA we also exclude New York (it gets its own \"cluster\")."
   ]
  },
  {
   "cell_type": "code",
   "execution_count": null,
   "metadata": {},
   "outputs": [],
   "source": [
    "deaths.columns"
   ]
  },
  {
   "cell_type": "code",
   "execution_count": null,
   "metadata": {},
   "outputs": [],
   "source": [
    "death_nums = np.array(county_all.iloc[:, 95:206])\n",
    "day_diffs = np.diff(death_nums, axis=1)\n",
    "negs = np.argwhere(day_diffs < 0)\n",
    "case_nums = np.array(county_all.iloc[:, 206:])\n",
    "day_diffs_cases = np.diff(case_nums, axis=1)\n",
    "negs_cases = np.argwhere(day_diffs_cases < 0)"
   ]
  },
  {
   "cell_type": "code",
   "execution_count": null,
   "metadata": {},
   "outputs": [],
   "source": [
    "negs_cases.shape"
   ]
  },
  {
   "cell_type": "code",
   "execution_count": null,
   "metadata": {},
   "outputs": [],
   "source": [
    "for pair in negs_cases:\n",
    "    val = day_diffs_cases[pair[0], pair[1]]\n",
    "    # Only look at changes that aren't that \n",
    "    if val < -10:\n",
    "        print('County Name:', county_all['CountyName'][pair[0]])\n",
    "        print('Decrease in Number:', val)\n",
    "        print()"
   ]
  },
  {
   "cell_type": "code",
   "execution_count": null,
   "metadata": {},
   "outputs": [],
   "source": [
    "k = 1863\n",
    "plt.plot(np.arange(len(deaths.iloc[k, 15:])), deaths.iloc[k, 15:])"
   ]
  },
  {
   "cell_type": "code",
   "execution_count": null,
   "metadata": {},
   "outputs": [],
   "source": [
    "pca = PCA(n_components=2, whiten=False)\n",
    "pca.fit(county_all_deaths)"
   ]
  },
  {
   "cell_type": "code",
   "execution_count": null,
   "metadata": {},
   "outputs": [],
   "source": [
    "p = pca.fit_transform(county_deaths_centered)\n",
    "px.scatter(p[:, 0], p[:, 1], hover_name=list(names_nony), color=county_all_nony['lat'])"
   ]
  },
  {
   "cell_type": "code",
   "execution_count": null,
   "metadata": {},
   "outputs": [],
   "source": [
    "px.scatter(p[:, 0], p[:, 1], hover_name=list(names_nony), color=county_all_nony['lon'])"
   ]
  },
  {
   "cell_type": "code",
   "execution_count": null,
   "metadata": {},
   "outputs": [],
   "source": [
    "for col in county_all_cases.columns:\n",
    "    if county_all_cases[col].dtype != 'int64':\n",
    "        print(county_all_cases[col].dtype)"
   ]
  },
  {
   "cell_type": "code",
   "execution_count": null,
   "metadata": {},
   "outputs": [],
   "source": [
    "p = pca(county_all_cases, 2)"
   ]
  },
  {
   "cell_type": "code",
   "execution_count": null,
   "metadata": {},
   "outputs": [],
   "source": [
    "county_all_cases.shape"
   ]
  }
 ],
 "metadata": {
  "kernelspec": {
   "display_name": "Python 3",
   "language": "python",
   "name": "python3"
  },
  "language_info": {
   "codemirror_mode": {
    "name": "ipython",
    "version": 3
   },
   "file_extension": ".py",
   "mimetype": "text/x-python",
   "name": "python",
   "nbconvert_exporter": "python",
   "pygments_lexer": "ipython3",
   "version": "3.7.1"
  }
 },
 "nbformat": 4,
 "nbformat_minor": 2
}
